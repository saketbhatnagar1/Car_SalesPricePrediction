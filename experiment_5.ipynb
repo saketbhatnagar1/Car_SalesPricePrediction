{
 "cells": [
  {
   "cell_type": "code",
   "execution_count": 2,
   "metadata": {},
   "outputs": [],
   "source": [
    "import pandas as pd\n",
    "import matplotlib.pyplot as plt\n",
    "import numpy as np"
   ]
  },
  {
   "cell_type": "code",
   "execution_count": 3,
   "metadata": {},
   "outputs": [
    {
     "data": {
      "text/html": [
       "<div>\n",
       "<style scoped>\n",
       "    .dataframe tbody tr th:only-of-type {\n",
       "        vertical-align: middle;\n",
       "    }\n",
       "\n",
       "    .dataframe tbody tr th {\n",
       "        vertical-align: top;\n",
       "    }\n",
       "\n",
       "    .dataframe thead th {\n",
       "        text-align: right;\n",
       "    }\n",
       "</style>\n",
       "<table border=\"1\" class=\"dataframe\">\n",
       "  <thead>\n",
       "    <tr style=\"text-align: right;\">\n",
       "      <th></th>\n",
       "      <th>Unnamed: 0</th>\n",
       "      <th>Name</th>\n",
       "      <th>Location</th>\n",
       "      <th>Year</th>\n",
       "      <th>Kilometers_Driven</th>\n",
       "      <th>Owner_Type</th>\n",
       "      <th>Mileage</th>\n",
       "      <th>Engine</th>\n",
       "      <th>Power</th>\n",
       "      <th>Seats</th>\n",
       "      <th>Price</th>\n",
       "      <th>Age</th>\n",
       "      <th>Diesel</th>\n",
       "      <th>Other</th>\n",
       "      <th>Petrol</th>\n",
       "      <th>Automatic</th>\n",
       "      <th>Manual</th>\n",
       "    </tr>\n",
       "  </thead>\n",
       "  <tbody>\n",
       "    <tr>\n",
       "      <th>0</th>\n",
       "      <td>0</td>\n",
       "      <td>Honda</td>\n",
       "      <td>Ahmedabad</td>\n",
       "      <td>2007</td>\n",
       "      <td>0.999803</td>\n",
       "      <td>2</td>\n",
       "      <td>17.679168</td>\n",
       "      <td>1.043464</td>\n",
       "      <td>1.035251</td>\n",
       "      <td>1.058602</td>\n",
       "      <td>1.043379</td>\n",
       "      <td>0.586006</td>\n",
       "      <td>0</td>\n",
       "      <td>0</td>\n",
       "      <td>1</td>\n",
       "      <td>0</td>\n",
       "      <td>1</td>\n",
       "    </tr>\n",
       "    <tr>\n",
       "      <th>1</th>\n",
       "      <td>1</td>\n",
       "      <td>Land</td>\n",
       "      <td>Mumbai</td>\n",
       "      <td>2008</td>\n",
       "      <td>1.000580</td>\n",
       "      <td>1</td>\n",
       "      <td>18.778682</td>\n",
       "      <td>0.891366</td>\n",
       "      <td>1.035251</td>\n",
       "      <td>1.058602</td>\n",
       "      <td>0.886922</td>\n",
       "      <td>0.651118</td>\n",
       "      <td>1</td>\n",
       "      <td>0</td>\n",
       "      <td>0</td>\n",
       "      <td>1</td>\n",
       "      <td>0</td>\n",
       "    </tr>\n",
       "    <tr>\n",
       "      <th>2</th>\n",
       "      <td>2</td>\n",
       "      <td>Honda</td>\n",
       "      <td>Pune</td>\n",
       "      <td>2004</td>\n",
       "      <td>0.991265</td>\n",
       "      <td>1</td>\n",
       "      <td>17.679168</td>\n",
       "      <td>1.043464</td>\n",
       "      <td>1.035251</td>\n",
       "      <td>1.058602</td>\n",
       "      <td>1.053012</td>\n",
       "      <td>1.006371</td>\n",
       "      <td>0</td>\n",
       "      <td>0</td>\n",
       "      <td>1</td>\n",
       "      <td>0</td>\n",
       "      <td>1</td>\n",
       "    </tr>\n",
       "    <tr>\n",
       "      <th>3</th>\n",
       "      <td>3</td>\n",
       "      <td>Land</td>\n",
       "      <td>Coimbatore</td>\n",
       "      <td>2008</td>\n",
       "      <td>0.998395</td>\n",
       "      <td>2</td>\n",
       "      <td>17.679168</td>\n",
       "      <td>1.043464</td>\n",
       "      <td>1.035251</td>\n",
       "      <td>1.058602</td>\n",
       "      <td>0.791387</td>\n",
       "      <td>0.651118</td>\n",
       "      <td>0</td>\n",
       "      <td>0</td>\n",
       "      <td>1</td>\n",
       "      <td>0</td>\n",
       "      <td>1</td>\n",
       "    </tr>\n",
       "    <tr>\n",
       "      <th>4</th>\n",
       "      <td>4</td>\n",
       "      <td>Hyundai</td>\n",
       "      <td>Coimbatore</td>\n",
       "      <td>2004</td>\n",
       "      <td>1.001023</td>\n",
       "      <td>2</td>\n",
       "      <td>17.679168</td>\n",
       "      <td>1.043464</td>\n",
       "      <td>1.035251</td>\n",
       "      <td>1.058602</td>\n",
       "      <td>1.050156</td>\n",
       "      <td>1.006371</td>\n",
       "      <td>0</td>\n",
       "      <td>0</td>\n",
       "      <td>1</td>\n",
       "      <td>0</td>\n",
       "      <td>1</td>\n",
       "    </tr>\n",
       "  </tbody>\n",
       "</table>\n",
       "</div>"
      ],
      "text/plain": [
       "   Unnamed: 0     Name    Location  Year  Kilometers_Driven  Owner_Type  \\\n",
       "0           0    Honda   Ahmedabad  2007           0.999803           2   \n",
       "1           1     Land      Mumbai  2008           1.000580           1   \n",
       "2           2    Honda        Pune  2004           0.991265           1   \n",
       "3           3     Land  Coimbatore  2008           0.998395           2   \n",
       "4           4  Hyundai  Coimbatore  2004           1.001023           2   \n",
       "\n",
       "     Mileage    Engine     Power     Seats     Price       Age  Diesel  Other  \\\n",
       "0  17.679168  1.043464  1.035251  1.058602  1.043379  0.586006       0      0   \n",
       "1  18.778682  0.891366  1.035251  1.058602  0.886922  0.651118       1      0   \n",
       "2  17.679168  1.043464  1.035251  1.058602  1.053012  1.006371       0      0   \n",
       "3  17.679168  1.043464  1.035251  1.058602  0.791387  0.651118       0      0   \n",
       "4  17.679168  1.043464  1.035251  1.058602  1.050156  1.006371       0      0   \n",
       "\n",
       "   Petrol  Automatic  Manual  \n",
       "0       1          0       1  \n",
       "1       0          1       0  \n",
       "2       1          0       1  \n",
       "3       1          0       1  \n",
       "4       1          0       1  "
      ]
     },
     "execution_count": 3,
     "metadata": {},
     "output_type": "execute_result"
    }
   ],
   "source": [
    "df = pd.read_csv(\"final_train-data1.csv\")\n",
    "df.head()"
   ]
  },
  {
   "cell_type": "code",
   "execution_count": 4,
   "metadata": {},
   "outputs": [
    {
     "data": {
      "text/html": [
       "<div>\n",
       "<style scoped>\n",
       "    .dataframe tbody tr th:only-of-type {\n",
       "        vertical-align: middle;\n",
       "    }\n",
       "\n",
       "    .dataframe tbody tr th {\n",
       "        vertical-align: top;\n",
       "    }\n",
       "\n",
       "    .dataframe thead th {\n",
       "        text-align: right;\n",
       "    }\n",
       "</style>\n",
       "<table border=\"1\" class=\"dataframe\">\n",
       "  <thead>\n",
       "    <tr style=\"text-align: right;\">\n",
       "      <th></th>\n",
       "      <th>Year</th>\n",
       "      <th>Kilometers_Driven</th>\n",
       "      <th>Owner_Type</th>\n",
       "      <th>Mileage</th>\n",
       "      <th>Engine</th>\n",
       "      <th>Power</th>\n",
       "      <th>Seats</th>\n",
       "      <th>Price</th>\n",
       "      <th>Age</th>\n",
       "      <th>Diesel</th>\n",
       "      <th>Other</th>\n",
       "      <th>Petrol</th>\n",
       "      <th>Automatic</th>\n",
       "      <th>Manual</th>\n",
       "    </tr>\n",
       "  </thead>\n",
       "  <tbody>\n",
       "    <tr>\n",
       "      <th>0</th>\n",
       "      <td>2007</td>\n",
       "      <td>0.999803</td>\n",
       "      <td>2</td>\n",
       "      <td>17.679168</td>\n",
       "      <td>1.043464</td>\n",
       "      <td>1.035251</td>\n",
       "      <td>1.058602</td>\n",
       "      <td>1.043379</td>\n",
       "      <td>0.586006</td>\n",
       "      <td>0</td>\n",
       "      <td>0</td>\n",
       "      <td>1</td>\n",
       "      <td>0</td>\n",
       "      <td>1</td>\n",
       "    </tr>\n",
       "    <tr>\n",
       "      <th>1</th>\n",
       "      <td>2008</td>\n",
       "      <td>1.000580</td>\n",
       "      <td>1</td>\n",
       "      <td>18.778682</td>\n",
       "      <td>0.891366</td>\n",
       "      <td>1.035251</td>\n",
       "      <td>1.058602</td>\n",
       "      <td>0.886922</td>\n",
       "      <td>0.651118</td>\n",
       "      <td>1</td>\n",
       "      <td>0</td>\n",
       "      <td>0</td>\n",
       "      <td>1</td>\n",
       "      <td>0</td>\n",
       "    </tr>\n",
       "    <tr>\n",
       "      <th>2</th>\n",
       "      <td>2004</td>\n",
       "      <td>0.991265</td>\n",
       "      <td>1</td>\n",
       "      <td>17.679168</td>\n",
       "      <td>1.043464</td>\n",
       "      <td>1.035251</td>\n",
       "      <td>1.058602</td>\n",
       "      <td>1.053012</td>\n",
       "      <td>1.006371</td>\n",
       "      <td>0</td>\n",
       "      <td>0</td>\n",
       "      <td>1</td>\n",
       "      <td>0</td>\n",
       "      <td>1</td>\n",
       "    </tr>\n",
       "    <tr>\n",
       "      <th>3</th>\n",
       "      <td>2008</td>\n",
       "      <td>0.998395</td>\n",
       "      <td>2</td>\n",
       "      <td>17.679168</td>\n",
       "      <td>1.043464</td>\n",
       "      <td>1.035251</td>\n",
       "      <td>1.058602</td>\n",
       "      <td>0.791387</td>\n",
       "      <td>0.651118</td>\n",
       "      <td>0</td>\n",
       "      <td>0</td>\n",
       "      <td>1</td>\n",
       "      <td>0</td>\n",
       "      <td>1</td>\n",
       "    </tr>\n",
       "    <tr>\n",
       "      <th>4</th>\n",
       "      <td>2004</td>\n",
       "      <td>1.001023</td>\n",
       "      <td>2</td>\n",
       "      <td>17.679168</td>\n",
       "      <td>1.043464</td>\n",
       "      <td>1.035251</td>\n",
       "      <td>1.058602</td>\n",
       "      <td>1.050156</td>\n",
       "      <td>1.006371</td>\n",
       "      <td>0</td>\n",
       "      <td>0</td>\n",
       "      <td>1</td>\n",
       "      <td>0</td>\n",
       "      <td>1</td>\n",
       "    </tr>\n",
       "  </tbody>\n",
       "</table>\n",
       "</div>"
      ],
      "text/plain": [
       "   Year  Kilometers_Driven  Owner_Type    Mileage    Engine     Power  \\\n",
       "0  2007           0.999803           2  17.679168  1.043464  1.035251   \n",
       "1  2008           1.000580           1  18.778682  0.891366  1.035251   \n",
       "2  2004           0.991265           1  17.679168  1.043464  1.035251   \n",
       "3  2008           0.998395           2  17.679168  1.043464  1.035251   \n",
       "4  2004           1.001023           2  17.679168  1.043464  1.035251   \n",
       "\n",
       "      Seats     Price       Age  Diesel  Other  Petrol  Automatic  Manual  \n",
       "0  1.058602  1.043379  0.586006       0      0       1          0       1  \n",
       "1  1.058602  0.886922  0.651118       1      0       0          1       0  \n",
       "2  1.058602  1.053012  1.006371       0      0       1          0       1  \n",
       "3  1.058602  0.791387  0.651118       0      0       1          0       1  \n",
       "4  1.058602  1.050156  1.006371       0      0       1          0       1  "
      ]
     },
     "execution_count": 4,
     "metadata": {},
     "output_type": "execute_result"
    }
   ],
   "source": [
    "# find correlation b\\t all features, select feature with high correlarion\n",
    "df.drop(columns=\"Unnamed: 0\", axis = 1, inplace=True)\n",
    "df_copy = df.drop(columns=[\"Name\", \"Location\"], axis = 1, )\n",
    "df_copy.head()\n"
   ]
  },
  {
   "cell_type": "code",
   "execution_count": 5,
   "metadata": {},
   "outputs": [
    {
     "data": {
      "text/html": [
       "<div>\n",
       "<style scoped>\n",
       "    .dataframe tbody tr th:only-of-type {\n",
       "        vertical-align: middle;\n",
       "    }\n",
       "\n",
       "    .dataframe tbody tr th {\n",
       "        vertical-align: top;\n",
       "    }\n",
       "\n",
       "    .dataframe thead th {\n",
       "        text-align: right;\n",
       "    }\n",
       "</style>\n",
       "<table border=\"1\" class=\"dataframe\">\n",
       "  <thead>\n",
       "    <tr style=\"text-align: right;\">\n",
       "      <th></th>\n",
       "      <th>Year</th>\n",
       "      <th>Kilometers_Driven</th>\n",
       "      <th>Owner_Type</th>\n",
       "      <th>Mileage</th>\n",
       "      <th>Engine</th>\n",
       "      <th>Power</th>\n",
       "      <th>Seats</th>\n",
       "      <th>Price</th>\n",
       "      <th>Age</th>\n",
       "      <th>Diesel</th>\n",
       "      <th>Other</th>\n",
       "      <th>Petrol</th>\n",
       "      <th>Automatic</th>\n",
       "      <th>Manual</th>\n",
       "    </tr>\n",
       "  </thead>\n",
       "  <tbody>\n",
       "    <tr>\n",
       "      <th>Year</th>\n",
       "      <td>1.000000</td>\n",
       "      <td>0.173048</td>\n",
       "      <td>0.373494</td>\n",
       "      <td>0.292148</td>\n",
       "      <td>0.050678</td>\n",
       "      <td>-0.024586</td>\n",
       "      <td>-0.015204</td>\n",
       "      <td>-0.305327</td>\n",
       "      <td>0.852321</td>\n",
       "      <td>0.126185</td>\n",
       "      <td>0.005117</td>\n",
       "      <td>-0.127490</td>\n",
       "      <td>0.097059</td>\n",
       "      <td>-0.097059</td>\n",
       "    </tr>\n",
       "    <tr>\n",
       "      <th>Kilometers_Driven</th>\n",
       "      <td>0.173048</td>\n",
       "      <td>1.000000</td>\n",
       "      <td>0.078563</td>\n",
       "      <td>0.064330</td>\n",
       "      <td>0.090962</td>\n",
       "      <td>0.032028</td>\n",
       "      <td>0.082782</td>\n",
       "      <td>-0.011493</td>\n",
       "      <td>0.157189</td>\n",
       "      <td>-0.104441</td>\n",
       "      <td>0.003369</td>\n",
       "      <td>0.103907</td>\n",
       "      <td>0.025663</td>\n",
       "      <td>-0.025663</td>\n",
       "    </tr>\n",
       "    <tr>\n",
       "      <th>Owner_Type</th>\n",
       "      <td>0.373494</td>\n",
       "      <td>0.078563</td>\n",
       "      <td>1.000000</td>\n",
       "      <td>0.143452</td>\n",
       "      <td>0.049803</td>\n",
       "      <td>0.025590</td>\n",
       "      <td>0.002300</td>\n",
       "      <td>-0.091808</td>\n",
       "      <td>0.318960</td>\n",
       "      <td>0.039260</td>\n",
       "      <td>-0.002799</td>\n",
       "      <td>-0.038734</td>\n",
       "      <td>0.000459</td>\n",
       "      <td>-0.000459</td>\n",
       "    </tr>\n",
       "    <tr>\n",
       "      <th>Mileage</th>\n",
       "      <td>0.292148</td>\n",
       "      <td>0.064330</td>\n",
       "      <td>0.143452</td>\n",
       "      <td>1.000000</td>\n",
       "      <td>0.638045</td>\n",
       "      <td>0.546129</td>\n",
       "      <td>0.341112</td>\n",
       "      <td>0.328474</td>\n",
       "      <td>0.262052</td>\n",
       "      <td>0.112289</td>\n",
       "      <td>0.158620</td>\n",
       "      <td>-0.146142</td>\n",
       "      <td>-0.356641</td>\n",
       "      <td>0.356641</td>\n",
       "    </tr>\n",
       "    <tr>\n",
       "      <th>Engine</th>\n",
       "      <td>0.050678</td>\n",
       "      <td>0.090962</td>\n",
       "      <td>0.049803</td>\n",
       "      <td>0.638045</td>\n",
       "      <td>1.000000</td>\n",
       "      <td>0.859737</td>\n",
       "      <td>0.392872</td>\n",
       "      <td>0.658045</td>\n",
       "      <td>0.068105</td>\n",
       "      <td>-0.428664</td>\n",
       "      <td>0.096921</td>\n",
       "      <td>0.408842</td>\n",
       "      <td>-0.501356</td>\n",
       "      <td>0.501356</td>\n",
       "    </tr>\n",
       "    <tr>\n",
       "      <th>Power</th>\n",
       "      <td>-0.024586</td>\n",
       "      <td>0.032028</td>\n",
       "      <td>0.025590</td>\n",
       "      <td>0.546129</td>\n",
       "      <td>0.859737</td>\n",
       "      <td>1.000000</td>\n",
       "      <td>0.102553</td>\n",
       "      <td>0.769771</td>\n",
       "      <td>0.007140</td>\n",
       "      <td>-0.291103</td>\n",
       "      <td>0.097334</td>\n",
       "      <td>0.270954</td>\n",
       "      <td>-0.640925</td>\n",
       "      <td>0.640925</td>\n",
       "    </tr>\n",
       "    <tr>\n",
       "      <th>Seats</th>\n",
       "      <td>-0.015204</td>\n",
       "      <td>0.082782</td>\n",
       "      <td>0.002300</td>\n",
       "      <td>0.341112</td>\n",
       "      <td>0.392872</td>\n",
       "      <td>0.102553</td>\n",
       "      <td>1.000000</td>\n",
       "      <td>0.052811</td>\n",
       "      <td>-0.027896</td>\n",
       "      <td>-0.308869</td>\n",
       "      <td>0.032797</td>\n",
       "      <td>0.302446</td>\n",
       "      <td>0.074838</td>\n",
       "      <td>-0.074838</td>\n",
       "    </tr>\n",
       "    <tr>\n",
       "      <th>Price</th>\n",
       "      <td>-0.305327</td>\n",
       "      <td>-0.011493</td>\n",
       "      <td>-0.091808</td>\n",
       "      <td>0.328474</td>\n",
       "      <td>0.658045</td>\n",
       "      <td>0.769771</td>\n",
       "      <td>0.052811</td>\n",
       "      <td>1.000000</td>\n",
       "      <td>-0.286866</td>\n",
       "      <td>-0.320645</td>\n",
       "      <td>0.055793</td>\n",
       "      <td>0.309363</td>\n",
       "      <td>-0.586025</td>\n",
       "      <td>0.586025</td>\n",
       "    </tr>\n",
       "    <tr>\n",
       "      <th>Age</th>\n",
       "      <td>0.852321</td>\n",
       "      <td>0.157189</td>\n",
       "      <td>0.318960</td>\n",
       "      <td>0.262052</td>\n",
       "      <td>0.068105</td>\n",
       "      <td>0.007140</td>\n",
       "      <td>-0.027896</td>\n",
       "      <td>-0.286866</td>\n",
       "      <td>1.000000</td>\n",
       "      <td>0.082121</td>\n",
       "      <td>-0.001644</td>\n",
       "      <td>-0.081915</td>\n",
       "      <td>0.074417</td>\n",
       "      <td>-0.074417</td>\n",
       "    </tr>\n",
       "    <tr>\n",
       "      <th>Diesel</th>\n",
       "      <td>0.126185</td>\n",
       "      <td>-0.104441</td>\n",
       "      <td>0.039260</td>\n",
       "      <td>0.112289</td>\n",
       "      <td>-0.428664</td>\n",
       "      <td>-0.291103</td>\n",
       "      <td>-0.308869</td>\n",
       "      <td>-0.320645</td>\n",
       "      <td>0.082121</td>\n",
       "      <td>1.000000</td>\n",
       "      <td>-0.114081</td>\n",
       "      <td>-0.977528</td>\n",
       "      <td>0.141613</td>\n",
       "      <td>-0.141613</td>\n",
       "    </tr>\n",
       "    <tr>\n",
       "      <th>Other</th>\n",
       "      <td>0.005117</td>\n",
       "      <td>0.003369</td>\n",
       "      <td>-0.002799</td>\n",
       "      <td>0.158620</td>\n",
       "      <td>0.096921</td>\n",
       "      <td>0.097334</td>\n",
       "      <td>0.032797</td>\n",
       "      <td>0.055793</td>\n",
       "      <td>-0.001644</td>\n",
       "      <td>-0.114081</td>\n",
       "      <td>1.000000</td>\n",
       "      <td>-0.097912</td>\n",
       "      <td>-0.060655</td>\n",
       "      <td>0.060655</td>\n",
       "    </tr>\n",
       "    <tr>\n",
       "      <th>Petrol</th>\n",
       "      <td>-0.127490</td>\n",
       "      <td>0.103907</td>\n",
       "      <td>-0.038734</td>\n",
       "      <td>-0.146142</td>\n",
       "      <td>0.408842</td>\n",
       "      <td>0.270954</td>\n",
       "      <td>0.302446</td>\n",
       "      <td>0.309363</td>\n",
       "      <td>-0.081915</td>\n",
       "      <td>-0.977528</td>\n",
       "      <td>-0.097912</td>\n",
       "      <td>1.000000</td>\n",
       "      <td>-0.128988</td>\n",
       "      <td>0.128988</td>\n",
       "    </tr>\n",
       "    <tr>\n",
       "      <th>Automatic</th>\n",
       "      <td>0.097059</td>\n",
       "      <td>0.025663</td>\n",
       "      <td>0.000459</td>\n",
       "      <td>-0.356641</td>\n",
       "      <td>-0.501356</td>\n",
       "      <td>-0.640925</td>\n",
       "      <td>0.074838</td>\n",
       "      <td>-0.586025</td>\n",
       "      <td>0.074417</td>\n",
       "      <td>0.141613</td>\n",
       "      <td>-0.060655</td>\n",
       "      <td>-0.128988</td>\n",
       "      <td>1.000000</td>\n",
       "      <td>-1.000000</td>\n",
       "    </tr>\n",
       "    <tr>\n",
       "      <th>Manual</th>\n",
       "      <td>-0.097059</td>\n",
       "      <td>-0.025663</td>\n",
       "      <td>-0.000459</td>\n",
       "      <td>0.356641</td>\n",
       "      <td>0.501356</td>\n",
       "      <td>0.640925</td>\n",
       "      <td>-0.074838</td>\n",
       "      <td>0.586025</td>\n",
       "      <td>-0.074417</td>\n",
       "      <td>-0.141613</td>\n",
       "      <td>0.060655</td>\n",
       "      <td>0.128988</td>\n",
       "      <td>-1.000000</td>\n",
       "      <td>1.000000</td>\n",
       "    </tr>\n",
       "  </tbody>\n",
       "</table>\n",
       "</div>"
      ],
      "text/plain": [
       "                       Year  Kilometers_Driven  Owner_Type   Mileage  \\\n",
       "Year               1.000000           0.173048    0.373494  0.292148   \n",
       "Kilometers_Driven  0.173048           1.000000    0.078563  0.064330   \n",
       "Owner_Type         0.373494           0.078563    1.000000  0.143452   \n",
       "Mileage            0.292148           0.064330    0.143452  1.000000   \n",
       "Engine             0.050678           0.090962    0.049803  0.638045   \n",
       "Power             -0.024586           0.032028    0.025590  0.546129   \n",
       "Seats             -0.015204           0.082782    0.002300  0.341112   \n",
       "Price             -0.305327          -0.011493   -0.091808  0.328474   \n",
       "Age                0.852321           0.157189    0.318960  0.262052   \n",
       "Diesel             0.126185          -0.104441    0.039260  0.112289   \n",
       "Other              0.005117           0.003369   -0.002799  0.158620   \n",
       "Petrol            -0.127490           0.103907   -0.038734 -0.146142   \n",
       "Automatic          0.097059           0.025663    0.000459 -0.356641   \n",
       "Manual            -0.097059          -0.025663   -0.000459  0.356641   \n",
       "\n",
       "                     Engine     Power     Seats     Price       Age    Diesel  \\\n",
       "Year               0.050678 -0.024586 -0.015204 -0.305327  0.852321  0.126185   \n",
       "Kilometers_Driven  0.090962  0.032028  0.082782 -0.011493  0.157189 -0.104441   \n",
       "Owner_Type         0.049803  0.025590  0.002300 -0.091808  0.318960  0.039260   \n",
       "Mileage            0.638045  0.546129  0.341112  0.328474  0.262052  0.112289   \n",
       "Engine             1.000000  0.859737  0.392872  0.658045  0.068105 -0.428664   \n",
       "Power              0.859737  1.000000  0.102553  0.769771  0.007140 -0.291103   \n",
       "Seats              0.392872  0.102553  1.000000  0.052811 -0.027896 -0.308869   \n",
       "Price              0.658045  0.769771  0.052811  1.000000 -0.286866 -0.320645   \n",
       "Age                0.068105  0.007140 -0.027896 -0.286866  1.000000  0.082121   \n",
       "Diesel            -0.428664 -0.291103 -0.308869 -0.320645  0.082121  1.000000   \n",
       "Other              0.096921  0.097334  0.032797  0.055793 -0.001644 -0.114081   \n",
       "Petrol             0.408842  0.270954  0.302446  0.309363 -0.081915 -0.977528   \n",
       "Automatic         -0.501356 -0.640925  0.074838 -0.586025  0.074417  0.141613   \n",
       "Manual             0.501356  0.640925 -0.074838  0.586025 -0.074417 -0.141613   \n",
       "\n",
       "                      Other    Petrol  Automatic    Manual  \n",
       "Year               0.005117 -0.127490   0.097059 -0.097059  \n",
       "Kilometers_Driven  0.003369  0.103907   0.025663 -0.025663  \n",
       "Owner_Type        -0.002799 -0.038734   0.000459 -0.000459  \n",
       "Mileage            0.158620 -0.146142  -0.356641  0.356641  \n",
       "Engine             0.096921  0.408842  -0.501356  0.501356  \n",
       "Power              0.097334  0.270954  -0.640925  0.640925  \n",
       "Seats              0.032797  0.302446   0.074838 -0.074838  \n",
       "Price              0.055793  0.309363  -0.586025  0.586025  \n",
       "Age               -0.001644 -0.081915   0.074417 -0.074417  \n",
       "Diesel            -0.114081 -0.977528   0.141613 -0.141613  \n",
       "Other              1.000000 -0.097912  -0.060655  0.060655  \n",
       "Petrol            -0.097912  1.000000  -0.128988  0.128988  \n",
       "Automatic         -0.060655 -0.128988   1.000000 -1.000000  \n",
       "Manual             0.060655  0.128988  -1.000000  1.000000  "
      ]
     },
     "execution_count": 5,
     "metadata": {},
     "output_type": "execute_result"
    }
   ],
   "source": [
    "df_copy.corr()"
   ]
  },
  {
   "cell_type": "code",
   "execution_count": 6,
   "metadata": {},
   "outputs": [
    {
     "data": {
      "text/plain": [
       "<matplotlib.collections.PathCollection at 0x1be7dee5ca0>"
      ]
     },
     "execution_count": 6,
     "metadata": {},
     "output_type": "execute_result"
    },
    {
     "data": {
      "image/png": "[encoded data removed]",
      "text/plain": [
       "<Figure size 640x480 with 1 Axes>"
      ]
     },
     "metadata": {},
     "output_type": "display_data"
    }
   ],
   "source": [
    "# draw scatter plot for price and power\n",
    "plt.scatter(df_copy[\"Price\"], df_copy[\"Power\"])"
   ]
  },
  {
   "cell_type": "code",
   "execution_count": 7,
   "metadata": {},
   "outputs": [
    {
     "data": {
      "text/plain": [
       "RangeIndex(start=0, stop=6019, step=1)"
      ]
     },
     "execution_count": 7,
     "metadata": {},
     "output_type": "execute_result"
    }
   ],
   "source": [
    "df_copy.index"
   ]
  },
  {
   "cell_type": "code",
   "execution_count": 8,
   "metadata": {},
   "outputs": [],
   "source": [
    "# create train data and test data for model devlopment\n",
    "train_data = df_copy.iloc[:5000]"
   ]
  },
  {
   "cell_type": "code",
   "execution_count": 9,
   "metadata": {},
   "outputs": [
    {
     "name": "stdout",
     "output_type": "stream",
     "text": [
      "<class 'pandas.core.frame.DataFrame'>\n",
      "RangeIndex: 5000 entries, 0 to 4999\n",
      "Data columns (total 14 columns):\n",
      " #   Column             Non-Null Count  Dtype  \n",
      "---  ------             --------------  -----  \n",
      " 0   Year               5000 non-null   int64  \n",
      " 1   Kilometers_Driven  5000 non-null   float64\n",
      " 2   Owner_Type         5000 non-null   int64  \n",
      " 3   Mileage            5000 non-null   float64\n",
      " 4   Engine             5000 non-null   float64\n",
      " 5   Power              5000 non-null   float64\n",
      " 6   Seats              5000 non-null   float64\n",
      " 7   Price              5000 non-null   float64\n",
      " 8   Age                5000 non-null   float64\n",
      " 9   Diesel             5000 non-null   int64  \n",
      " 10  Other              5000 non-null   int64  \n",
      " 11  Petrol             5000 non-null   int64  \n",
      " 12  Automatic          5000 non-null   int64  \n",
      " 13  Manual             5000 non-null   int64  \n",
      "dtypes: float64(7), int64(7)\n",
      "memory usage: 547.0 KB\n"
     ]
    }
   ],
   "source": [
    "train_data.info()"
   ]
  },
  {
   "cell_type": "code",
   "execution_count": 10,
   "metadata": {},
   "outputs": [
    {
     "name": "stdout",
     "output_type": "stream",
     "text": [
      "<class 'pandas.core.frame.DataFrame'>\n",
      "RangeIndex: 1018 entries, 5001 to 6018\n",
      "Data columns (total 16 columns):\n",
      " #   Column             Non-Null Count  Dtype  \n",
      "---  ------             --------------  -----  \n",
      " 0   Name               1018 non-null   object \n",
      " 1   Location           1018 non-null   object \n",
      " 2   Year               1018 non-null   int64  \n",
      " 3   Kilometers_Driven  1018 non-null   float64\n",
      " 4   Owner_Type         1018 non-null   int64  \n",
      " 5   Mileage            1018 non-null   float64\n",
      " 6   Engine             1018 non-null   float64\n",
      " 7   Power              1018 non-null   float64\n",
      " 8   Seats              1018 non-null   float64\n",
      " 9   Price              1018 non-null   float64\n",
      " 10  Age                1018 non-null   float64\n",
      " 11  Diesel             1018 non-null   int64  \n",
      " 12  Other              1018 non-null   int64  \n",
      " 13  Petrol             1018 non-null   int64  \n",
      " 14  Automatic          1018 non-null   int64  \n",
      " 15  Manual             1018 non-null   int64  \n",
      "dtypes: float64(7), int64(7), object(2)\n",
      "memory usage: 127.4+ KB\n"
     ]
    }
   ],
   "source": [
    "test_data = df.iloc[5001: 6019]\n",
    "test_data.info()"
   ]
  },
  {
   "cell_type": "code",
   "execution_count": 11,
   "metadata": {},
   "outputs": [
    {
     "name": "stderr",
     "output_type": "stream",
     "text": [
      "C:\\Users\\mukes\\AppData\\Local\\Temp\\ipykernel_9428\\2211461034.py:5: SettingWithCopyWarning: \n",
      "A value is trying to be set on a copy of a slice from a DataFrame.\n",
      "Try using .loc[row_indexer,col_indexer] = value instead\n",
      "\n",
      "See the caveats in the documentation: https://pandas.pydata.org/pandas-docs/stable/user_guide/indexing.html#returning-a-view-versus-a-copy\n",
      "  train_data[\"predicted_price\"]=w0+w1*train_data[\"Power\"]\n"
     ]
    },
    {
     "data": {
      "text/html": [
       "<div>\n",
       "<style scoped>\n",
       "    .dataframe tbody tr th:only-of-type {\n",
       "        vertical-align: middle;\n",
       "    }\n",
       "\n",
       "    .dataframe tbody tr th {\n",
       "        vertical-align: top;\n",
       "    }\n",
       "\n",
       "    .dataframe thead th {\n",
       "        text-align: right;\n",
       "    }\n",
       "</style>\n",
       "<table border=\"1\" class=\"dataframe\">\n",
       "  <thead>\n",
       "    <tr style=\"text-align: right;\">\n",
       "      <th></th>\n",
       "      <th>Year</th>\n",
       "      <th>Kilometers_Driven</th>\n",
       "      <th>Owner_Type</th>\n",
       "      <th>Mileage</th>\n",
       "      <th>Engine</th>\n",
       "      <th>Power</th>\n",
       "      <th>Seats</th>\n",
       "      <th>Price</th>\n",
       "      <th>Age</th>\n",
       "      <th>Diesel</th>\n",
       "      <th>Other</th>\n",
       "      <th>Petrol</th>\n",
       "      <th>Automatic</th>\n",
       "      <th>Manual</th>\n",
       "      <th>predicted_price</th>\n",
       "    </tr>\n",
       "  </thead>\n",
       "  <tbody>\n",
       "    <tr>\n",
       "      <th>0</th>\n",
       "      <td>2007</td>\n",
       "      <td>0.999803</td>\n",
       "      <td>2</td>\n",
       "      <td>17.679168</td>\n",
       "      <td>1.043464</td>\n",
       "      <td>1.035251</td>\n",
       "      <td>1.058602</td>\n",
       "      <td>1.043379</td>\n",
       "      <td>0.586006</td>\n",
       "      <td>0</td>\n",
       "      <td>0</td>\n",
       "      <td>1</td>\n",
       "      <td>0</td>\n",
       "      <td>1</td>\n",
       "      <td>2.035251</td>\n",
       "    </tr>\n",
       "    <tr>\n",
       "      <th>1</th>\n",
       "      <td>2008</td>\n",
       "      <td>1.000580</td>\n",
       "      <td>1</td>\n",
       "      <td>18.778682</td>\n",
       "      <td>0.891366</td>\n",
       "      <td>1.035251</td>\n",
       "      <td>1.058602</td>\n",
       "      <td>0.886922</td>\n",
       "      <td>0.651118</td>\n",
       "      <td>1</td>\n",
       "      <td>0</td>\n",
       "      <td>0</td>\n",
       "      <td>1</td>\n",
       "      <td>0</td>\n",
       "      <td>2.035251</td>\n",
       "    </tr>\n",
       "    <tr>\n",
       "      <th>2</th>\n",
       "      <td>2004</td>\n",
       "      <td>0.991265</td>\n",
       "      <td>1</td>\n",
       "      <td>17.679168</td>\n",
       "      <td>1.043464</td>\n",
       "      <td>1.035251</td>\n",
       "      <td>1.058602</td>\n",
       "      <td>1.053012</td>\n",
       "      <td>1.006371</td>\n",
       "      <td>0</td>\n",
       "      <td>0</td>\n",
       "      <td>1</td>\n",
       "      <td>0</td>\n",
       "      <td>1</td>\n",
       "      <td>2.035251</td>\n",
       "    </tr>\n",
       "    <tr>\n",
       "      <th>3</th>\n",
       "      <td>2008</td>\n",
       "      <td>0.998395</td>\n",
       "      <td>2</td>\n",
       "      <td>17.679168</td>\n",
       "      <td>1.043464</td>\n",
       "      <td>1.035251</td>\n",
       "      <td>1.058602</td>\n",
       "      <td>0.791387</td>\n",
       "      <td>0.651118</td>\n",
       "      <td>0</td>\n",
       "      <td>0</td>\n",
       "      <td>1</td>\n",
       "      <td>0</td>\n",
       "      <td>1</td>\n",
       "      <td>2.035251</td>\n",
       "    </tr>\n",
       "    <tr>\n",
       "      <th>4</th>\n",
       "      <td>2004</td>\n",
       "      <td>1.001023</td>\n",
       "      <td>2</td>\n",
       "      <td>17.679168</td>\n",
       "      <td>1.043464</td>\n",
       "      <td>1.035251</td>\n",
       "      <td>1.058602</td>\n",
       "      <td>1.050156</td>\n",
       "      <td>1.006371</td>\n",
       "      <td>0</td>\n",
       "      <td>0</td>\n",
       "      <td>1</td>\n",
       "      <td>0</td>\n",
       "      <td>1</td>\n",
       "      <td>2.035251</td>\n",
       "    </tr>\n",
       "  </tbody>\n",
       "</table>\n",
       "</div>"
      ],
      "text/plain": [
       "   Year  Kilometers_Driven  Owner_Type    Mileage    Engine     Power  \\\n",
       "0  2007           0.999803           2  17.679168  1.043464  1.035251   \n",
       "1  2008           1.000580           1  18.778682  0.891366  1.035251   \n",
       "2  2004           0.991265           1  17.679168  1.043464  1.035251   \n",
       "3  2008           0.998395           2  17.679168  1.043464  1.035251   \n",
       "4  2004           1.001023           2  17.679168  1.043464  1.035251   \n",
       "\n",
       "      Seats     Price       Age  Diesel  Other  Petrol  Automatic  Manual  \\\n",
       "0  1.058602  1.043379  0.586006       0      0       1          0       1   \n",
       "1  1.058602  0.886922  0.651118       1      0       0          1       0   \n",
       "2  1.058602  1.053012  1.006371       0      0       1          0       1   \n",
       "3  1.058602  0.791387  0.651118       0      0       1          0       1   \n",
       "4  1.058602  1.050156  1.006371       0      0       1          0       1   \n",
       "\n",
       "   predicted_price  \n",
       "0         2.035251  \n",
       "1         2.035251  \n",
       "2         2.035251  \n",
       "3         2.035251  \n",
       "4         2.035251  "
      ]
     },
     "execution_count": 11,
     "metadata": {},
     "output_type": "execute_result"
    }
   ],
   "source": [
    "# create liner regression model using power to predict price(consider slope and intercept as 1)\n",
    "#PRICE = w0+w1*power\n",
    "#let w0 and w1 is 1\n",
    "w0 = w1=1\n",
    "train_data[\"predicted_price\"]=w0+w1*train_data[\"Power\"]\n",
    "train_data.head()"
   ]
  },
  {
   "cell_type": "code",
   "execution_count": 12,
   "metadata": {},
   "outputs": [
    {
     "name": "stdout",
     "output_type": "stream",
     "text": [
      "Sum of absolute erros:  4999.165221242407\n",
      "Mean of squared error:  1.0058171181013547\n",
      "Root mean of squared error:  1.0029043414510452\n"
     ]
    }
   ],
   "source": [
    "# find sum of absolute error\n",
    "SAE = np.sum(np.abs(train_data[\"predicted_price\"]-train_data[\"Price\"]))\n",
    "MSE = np.mean((train_data[\"predicted_price\"] - train_data[\"Price\"])**2)\n",
    "RMSE = np.sqrt(MSE)\n",
    "print(\"Sum of absolute erros: \", SAE)\n",
    "print(\"Mean of squared error: \", MSE)\n",
    "print(\"Root mean of squared error: \", RMSE)"
   ]
  },
  {
   "cell_type": "code",
   "execution_count": 13,
   "metadata": {},
   "outputs": [
    {
     "name": "stdout",
     "output_type": "stream",
     "text": [
      "0.5127470085560009 0.48733104475134115\n"
     ]
    }
   ],
   "source": [
    "# find best value of w0 and w1 by least square method\n",
    "# w0 = 1/n + sum(y) - w1/n*sum(x)\n",
    "# w1 = sum(xy) - 1/n+sum(x)*sum(y) / sum(x*x)-1/n*sum(x)*sum(x)\n",
    "n = 5000\n",
    "Y = train_data[\"Price\"]\n",
    "X = train_data[\"Power\"]\n",
    "w1 = (np.sum(Y*X) - (1/n)*np.sum(X)*np.sum(X)) / (np.sum(X*X) - (1/n)*np.sum(X)*np.sum(X))\n",
    "w0 =((1/n) * sum(Y) -(w1/n)*sum(X))\n",
    "print(w0,w1)"
   ]
  },
  {
   "cell_type": "code",
   "execution_count": 14,
   "metadata": {},
   "outputs": [
    {
     "name": "stderr",
     "output_type": "stream",
     "text": [
      "C:\\Users\\mukes\\AppData\\Local\\Temp\\ipykernel_9428\\3682461080.py:3: SettingWithCopyWarning: \n",
      "A value is trying to be set on a copy of a slice from a DataFrame.\n",
      "Try using .loc[row_indexer,col_indexer] = value instead\n",
      "\n",
      "See the caveats in the documentation: https://pandas.pydata.org/pandas-docs/stable/user_guide/indexing.html#returning-a-view-versus-a-copy\n",
      "  train_data[\"new_price\"] = w0 + w1*train_data[\"Power\"]\n"
     ]
    }
   ],
   "source": [
    "# Create linear regression model using power to predict price\n",
    "# price = w0 + w1*power\n",
    "train_data[\"new_price\"] = w0 + w1*train_data[\"Power\"]"
   ]
  },
  {
   "cell_type": "code",
   "execution_count": 15,
   "metadata": {},
   "outputs": [
    {
     "name": "stdout",
     "output_type": "stream",
     "text": [
      "Sum of absolute error 142.54651911615787\n",
      "Mean of Squared error 0.002325362655753708\n",
      "Root mean of absolute error 0.04822201422331618\n"
     ]
    }
   ],
   "source": [
    "# Compute sum of abs error\n",
    "SAE = np.sum(np.abs(train_data['new_price']- train_data['Price']))\n",
    "MSE = np.mean((train_data['new_price']- train_data['Price'])**2)\n",
    "RMSE = np.sqrt(MSE)\n",
    "print(\"Sum of absolute error\",SAE)\n",
    "print(\"Mean of Squared error\",MSE)\n",
    "print(\"Root mean of absolute error\",RMSE)"
   ]
  },
  {
   "cell_type": "code",
   "execution_count": 16,
   "metadata": {},
   "outputs": [
    {
     "data": {
      "text/plain": [
       "<matplotlib.collections.PathCollection at 0x1be7dfba300>"
      ]
     },
     "execution_count": 16,
     "metadata": {},
     "output_type": "execute_result"
    },
    {
     "data": {
      "image/png": "[encoded data removed]",
      "text/plain": [
       "<Figure size 640x480 with 1 Axes>"
      ]
     },
     "metadata": {},
     "output_type": "display_data"
    }
   ],
   "source": [
    "plt.scatter(train_data['Price'],train_data['Power'])\n",
    "plt.scatter(train_data['predicted_price'],train_data['Power'])\n",
    "plt.scatter(train_data['new_price'],train_data['Power'])"
   ]
  },
  {
   "cell_type": "code",
   "execution_count": 33,
   "metadata": {},
   "outputs": [
    {
     "name": "stdout",
     "output_type": "stream",
     "text": [
      "4999.165221242407\n",
      "2499.949529251156\n",
      "1250.158250870907\n",
      "625.1708820252709\n",
      "312.6747720550934\n",
      "194.81448256209728\n",
      "209.59905111117718\n",
      "264.1851922500727\n",
      "351.79524143501044\n",
      "484.36685591886203\n",
      "686.1153221020161\n",
      "994.4341547212154\n",
      "1467.2914824622767\n",
      "2184.5143265040897\n",
      "3266.7410784579906\n",
      "4896.519861869965\n"
     ]
    }
   ],
   "source": [
    "# GRADIENT DESCENT ALGORITHM to find efficient value of slope and interface\n",
    "power = np.asanyarray(train_data[\"Power\"])\n",
    "actual = np.asanyarray(train_data[\"Price\"])\n",
    "\n",
    "w0 = list()\n",
    "w1 = list()\n",
    "cost = list()\n",
    "w0.append(1)\n",
    "w1.append(1)\n",
    "eta = 0.1e-7\n",
    "# print(w0,w1,cost,power)\n",
    "for i in range(16):\n",
    "    predicted = w0[i] + w1[i]*power\n",
    "    cost.append(np.sum(np.abs(predicted-actual)))    # sum of absolute error\n",
    "    print(cost[i])\n",
    "    dw0 = np.sum(2*cost[i])\n",
    "    dw1 = np.sum(2*(cost[i]*power))\n",
    "    \n",
    "    # print(\"dw0,dw1=\",dw0,dw1)\n",
    "    w0.append(w0[i] - eta*dw0)\n",
    "    w1.append(w1[i] - eta*dw1)\n",
    "    #print(\"w0,w1=\",w0[i],w1[i])\n",
    "    \n"
   ]
  },
  {
   "cell_type": "code",
   "execution_count": 34,
   "metadata": {},
   "outputs": [
    {
     "data": {
      "image/png": "[encoded data removed]",
      "text/plain": [
       "<Figure size 640x480 with 1 Axes>"
      ]
     },
     "metadata": {},
     "output_type": "display_data"
    }
   ],
   "source": [
    "plt.scatter(w0[:-1], cost)\n",
    "plt.xlabel('w0')\n",
    "plt.ylabel('Cost')\n",
    "plt.title('Gradient Descent Progress')\n",
    "plt.show()"
   ]
  },
  {
   "cell_type": "code",
   "execution_count": 35,
   "metadata": {},
   "outputs": [
    {
     "name": "stdout",
     "output_type": "stream",
     "text": [
      "4999.165221242407 1 1\n",
      "2499.949529251156 0.9999000166955752 0.500170168907557\n",
      "1250.158250870907 0.9998500177049902 0.2502185678611134\n",
      "625.1708820252709 0.9998250145399727 0.12522442189521235\n",
      "312.6747720550934 0.9998125111223323 0.06271817484444042\n",
      "194.81448256209728 0.9998062576268911 0.031456119763907345\n",
      "209.59905111117718 0.9998023613372399 0.01197804980542434\n",
      "264.1851922500727 0.9997981693562177 -0.008978220627261984\n",
      "351.79524143501044 0.9997928856523727 -0.0353921585900208\n",
      "484.36685591886203 0.999785849747544 -0.07056558221651314\n",
      "686.1153221020161 0.9997761624104257 -0.1189938683535604\n",
      "994.4341547212154 0.9997624401039836 -0.1875935025682822\n",
      "1467.2914824622767 0.9997425514208892 -0.28701967345673574\n",
      "2184.5143265040897 0.99971320559124 -0.43372337725235355\n",
      "3266.7410784579906 0.9996695153047099 -0.6521369280179757\n",
      "\n",
      "0.9998062576268911 0.031456119763907345\n"
     ]
    }
   ],
   "source": [
    "# find the value of w0 and w1 w.r.t minimum value of cost\n",
    "for i in range(15):\n",
    "    print(cost[i], w0[i], w1[i])\n",
    "print()\n",
    "w0 = w0[cost.index(min(cost))]\n",
    "w1 = w1[cost.index(min(cost))]\n",
    "print(w0,w1)"
   ]
  },
  {
   "cell_type": "code",
   "execution_count": 36,
   "metadata": {},
   "outputs": [
    {
     "data": {
      "text/plain": [
       "array([1.03237125, 1.03237125, 1.03237125, ..., 1.02386633, 1.03306825,\n",
       "       1.03095068])"
      ]
     },
     "execution_count": 36,
     "metadata": {},
     "output_type": "execute_result"
    }
   ],
   "source": [
    "new_w0 = 0.9998062576268911\n",
    "new_w1 = 0.031456119763907345\n",
    "predicted_value = new_w0 + new_w1*power\n",
    "predicted_value\n"
   ]
  },
  {
   "cell_type": "code",
   "execution_count": 37,
   "metadata": {},
   "outputs": [
    {
     "data": {
      "text/plain": [
       "194.81448256209728"
      ]
     },
     "execution_count": 37,
     "metadata": {},
     "output_type": "execute_result"
    }
   ],
   "source": [
    "SAE = np.sum(np.abs(predicted_value-actual))\n",
    "SAE"
   ]
  },
  {
   "cell_type": "code",
   "execution_count": 39,
   "metadata": {},
   "outputs": [
    {
     "data": {
      "text/plain": [
       "<matplotlib.collections.PathCollection at 0x1be028b29c0>"
      ]
     },
     "execution_count": 39,
     "metadata": {},
     "output_type": "execute_result"
    },
    {
     "data": {
      "image/png": "[encoded data removed]",
      "text/plain": [
       "<Figure size 640x480 with 1 Axes>"
      ]
     },
     "metadata": {},
     "output_type": "display_data"
    }
   ],
   "source": [
    "# draw plot b\\w predicted price vs power\n",
    "plt.scatter(power,actual)\n",
    "plt.scatter(power,predicted_value)"
   ]
  },
  {
   "cell_type": "code",
   "execution_count": 41,
   "metadata": {},
   "outputs": [
    {
     "data": {
      "text/plain": [
       "<matplotlib.collections.PathCollection at 0x1be02b39a90>"
      ]
     },
     "execution_count": 41,
     "metadata": {},
     "output_type": "execute_result"
    },
    {
     "data": {
      "image/png": "[encoded data removed]",
      "text/plain": [
       "<Figure size 640x480 with 1 Axes>"
      ]
     },
     "metadata": {},
     "output_type": "display_data"
    }
   ],
   "source": [
    "#apply gradient descent of price vs mileage & price vs engine and kilometer driven\n",
    "plt.scatter(train_data[\"Price\"],train_data[\"Mileage\"])\n",
    "plt.scatter(train_data[\"predicted_price\"],train_data[\"Mileage\"])\n",
    "plt.scatter(train_data[\"new_price\"],train_data[\"Mileage\"])"
   ]
  },
  {
   "cell_type": "code",
   "execution_count": 42,
   "metadata": {},
   "outputs": [
    {
     "data": {
      "image/png": "[encoded data removed]",
      "text/plain": [
       "<Figure size 640x480 with 1 Axes>"
      ]
     },
     "metadata": {},
     "output_type": "display_data"
    }
   ],
   "source": [
    "# implement linear regression for engine, mileage and kilometer driven\n",
    "# Assuming you have a DataFrame named train_data with columns 'Power' and 'Price'\n",
    "price = np.asanyarray(train_data[\"Price\"])\n",
    "kil = np.asanyarray(train_data[\"Kilometers_Driven\"])\n",
    "w0 = list()\n",
    "w1 = list()\n",
    "cost = list()\n",
    "w0.append(1)\n",
    "w1.append(1)\n",
    "\n",
    "eta = 0.1e-16\n",
    "\n",
    "for i in range(16):\n",
    "    predicted = w0[i] + w1[i]*price\n",
    "    #print(np.sum(predicted))\n",
    "    \n",
    "    cost.append(np.sum(np.abs(predicted-kil)))\n",
    "    #print(cost[i])\n",
    "    dw0 = np.sum(2*cost[i])\n",
    "    \n",
    "    dw1 = np.sum(2*(cost[i]*power))\n",
    "    #print(\"dw0,dw1=\",dw0,dw1)\n",
    "    w0.append(w0[i]-eta*dw0)\n",
    "    w1.append(w1[i]-eta*dw1)\n",
    "    #print(\"w0,w1=\",w0[i],w1[i])\n",
    "    plt.scatter(w0[:-1], cost)\n",
    "plt.xlabel('w0')\n",
    "plt.ylabel('Cost')\n",
    "plt.title('Gradient Descent Progress')\n",
    "plt.show()"
   ]
  }
 ],
 "metadata": {
  "kernelspec": {
   "display_name": "Python 3",
   "language": "python",
   "name": "python3"
  },
  "language_info": {
   "codemirror_mode": {
    "name": "ipython",
    "version": 3
   },
   "file_extension": ".py",
   "mimetype": "text/x-python",
   "name": "python",
   "nbconvert_exporter": "python",
   "pygments_lexer": "ipython3",
   "version": "3.12.0"
  }
 },
 "nbformat": 4,
 "nbformat_minor": 2
}
